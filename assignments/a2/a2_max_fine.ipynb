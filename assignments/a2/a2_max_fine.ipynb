{
 "cells": [
  {
   "cell_type": "markdown",
   "metadata": {},
   "source": [
    "### Maxwell A. Fine 14880725\n",
    "### Assingment 2: Stastical Methods in Astrophysics"
   ]
  },
  {
   "cell_type": "code",
   "execution_count": 110,
   "metadata": {},
   "outputs": [],
   "source": [
    "# imports\n",
    "import numpy as np\n",
    "import matplotlib.pyplot as plt\n",
    "import pandas as pd\n",
    "from astropy.io import fits\n",
    "from scipy.stats import pearsonr, spearmanr\n",
    "from itertools import combinations # fancy nested for loop\n",
    "from scipy.stats import norm\n",
    "from scipy.stats import lognorm\n",
    "import scipy.stats as sps\n",
    "import scipy.integrate as spint\n",
    " \n",
    "\n",
    "# Set a seed for reproducibility\n",
    "random_seed = 42\n",
    "\n",
    "# Gaia correction term\n",
    "gaia_corr = 0.029"
   ]
  },
  {
   "cell_type": "markdown",
   "metadata": {},
   "source": [
    "### Initial Setup\n",
    "First, load in the stars data as shown in Assignment 1, and create a dataframe containing only stars with Prob > 0.8, which you will use for the remainder of this assignment."
   ]
  },
  {
   "cell_type": "code",
   "execution_count": 2,
   "metadata": {},
   "outputs": [
    {
     "name": "stdout",
     "output_type": "stream",
     "text": [
      "Filename: gaiadr3_cluster_stars.fits\n",
      "No.    Name      Ver    Type      Cards   Dimensions   Format\n",
      "  0  PRIMARY       1 PrimaryHDU      93   ()      \n",
      "  1  members.dat    1 TableHDU       331   1291929R x 56C   [A20, I4, I19, I1, F10.8, F12.8, F10.8, F12.8, F10.8, F12.8, E11.4, E11.4, F10.8, E11.4, F10.8, E11.4, F10.8, F11.8, F11.8, E11.4, E11.4, E11.4, E11.4, E11.4, E11.4, I2, F12.8, F10.7, F11.8, F10.8, F19.8, F16.8, F18.8, F17.8, F18.8, F17.8, F10.7, F10.7, F10.7, E11.4, E11.4, E11.4, E9.3, F12.8, F4.1, F6.1, F5.1, F11.7, F11.8, F6.1, F12.7, F13.8, F5.1, A13, I1, I1]   \n",
      "ColDefs(\n",
      "    name = 'Name'; format = 'A20'; start = 1\n",
      "    name = 'ID'; format = 'I4'; disp = 'I4'; start = 22\n",
      "    name = 'GaiaDR3'; format = 'I19'; disp = 'I19'; start = 27\n",
      "    name = 'inrt'; format = 'I1'; disp = 'I1'; start = 47\n",
      "    name = 'Prob'; format = 'F10.8'; disp = 'F10.8'; start = 49\n",
      "    name = 'RAdeg'; format = 'F12.8'; unit = 'deg'; disp = 'F12.8'; start = 60\n",
      "    name = 'e_RAdeg'; format = 'F10.8'; unit = 'arcsec'; disp = 'F10.8'; start = 73\n",
      "    name = 'DEdeg'; format = 'F12.8'; unit = 'deg'; disp = 'F12.8'; start = 84\n",
      "    name = 'e_DEdeg'; format = 'F10.8'; unit = 'arcsec'; disp = 'F10.8'; start = 97\n",
      "    name = 'GLON'; format = 'F12.8'; unit = 'deg'; disp = 'F12.8'; start = 108\n",
      "    name = 'GLAT'; format = 'E11.4'; unit = 'deg'; disp = 'E11.4'; start = 121\n",
      "    name = 'pmRA'; format = 'E11.4'; unit = 'mas/yr'; disp = 'E11.4'; start = 133\n",
      "    name = 'e_pmRA'; format = 'F10.8'; unit = 'mas/yr'; disp = 'F10.8'; start = 145\n",
      "    name = 'pmDE'; format = 'E11.4'; unit = 'mas/yr'; disp = 'E11.4'; start = 156\n",
      "    name = 'e_pmDE'; format = 'F10.8'; unit = 'mas/yr'; disp = 'F10.8'; start = 168\n",
      "    name = 'Plx'; format = 'E11.4'; unit = 'mas'; disp = 'E11.4'; start = 179\n",
      "    name = 'e_Plx'; format = 'F10.8'; unit = 'mas'; disp = 'F10.8'; start = 191\n",
      "    name = 'pscol'; format = 'F11.8'; unit = 'um-1'; disp = 'F11.8'; start = 202\n",
      "    name = 'e_pscol'; format = 'F11.8'; unit = 'um-1'; disp = 'F11.8'; start = 214\n",
      "    name = 'PlxpmRACor'; format = 'E11.4'; disp = 'E11.4'; start = 226\n",
      "    name = 'PlxpmDECor'; format = 'E11.4'; disp = 'E11.4'; start = 238\n",
      "    name = 'pmRApmDECor'; format = 'E11.4'; disp = 'E11.4'; start = 250\n",
      "    name = 'PlxpscolCor'; format = 'E11.4'; disp = 'E11.4'; start = 262\n",
      "    name = 'pmRApscolCor'; format = 'E11.4'; disp = 'E11.4'; start = 274\n",
      "    name = 'pmDEpscolCor'; format = 'E11.4'; disp = 'E11.4'; start = 286\n",
      "    name = 'Solved'; format = 'I2'; disp = 'I2'; start = 298\n",
      "    name = 'ELAT'; format = 'F12.8'; unit = 'deg'; disp = 'F12.8'; start = 301\n",
      "    name = 'nueff'; format = 'F10.7'; unit = 'um-1'; disp = 'F10.7'; start = 314\n",
      "    name = 'RUWE'; format = 'F11.8'; disp = 'F11.8'; start = 325\n",
      "    name = 'FidelityV1'; format = 'F10.8'; disp = 'F10.8'; start = 337\n",
      "    name = 'FG'; format = 'F19.8'; unit = 'e-/s'; disp = 'F19.8'; start = 348\n",
      "    name = 'e_FG'; format = 'F16.8'; unit = 'e-/s'; disp = 'F16.8'; start = 368\n",
      "    name = 'FBP'; format = 'F18.8'; unit = 'e-/s'; disp = 'F18.8'; start = 385\n",
      "    name = 'e_FBP'; format = 'F17.8'; unit = 'e-/s'; disp = 'F17.8'; start = 404\n",
      "    name = 'FRP'; format = 'F18.8'; unit = 'e-/s'; disp = 'F18.8'; start = 422\n",
      "    name = 'e_FRP'; format = 'F17.8'; unit = 'e-/s'; disp = 'F17.8'; start = 441\n",
      "    name = 'Gmag'; format = 'F10.7'; unit = 'mag'; disp = 'F10.7'; start = 459\n",
      "    name = 'BPmag'; format = 'F10.7'; unit = 'mag'; disp = 'F10.7'; start = 470\n",
      "    name = 'RPmag'; format = 'F10.7'; unit = 'mag'; disp = 'F10.7'; start = 481\n",
      "    name = 'BP-RP'; format = 'E11.4'; unit = 'mag'; disp = 'E11.4'; start = 492\n",
      "    name = 'BP-G'; format = 'E11.4'; unit = 'mag'; disp = 'E11.4'; start = 504\n",
      "    name = 'G-RP'; format = 'E11.4'; unit = 'mag'; disp = 'E11.4'; start = 516\n",
      "    name = 'RV'; format = 'E9.3'; unit = 'km/s'; disp = 'E9.3'; start = 528\n",
      "    name = 'e_RV'; format = 'F12.8'; unit = 'km/s'; disp = 'F12.8'; start = 538\n",
      "    name = 'n_RV'; format = 'F4.1'; disp = 'F4.1'; start = 551\n",
      "    name = 'o_RV'; format = 'F6.1'; disp = 'F6.1'; start = 556\n",
      "    name = 'o_RVd'; format = 'F5.1'; disp = 'F5.1'; start = 563\n",
      "    name = 'GRVSmag'; format = 'F11.7'; unit = 'mag'; disp = 'F11.7'; start = 569\n",
      "    name = 'e_GRVSmag'; format = 'F11.8'; unit = 'mag'; disp = 'F11.8'; start = 581\n",
      "    name = 'o_GRVSmag'; format = 'F6.1'; disp = 'F6.1'; start = 593\n",
      "    name = 'Vbroad'; format = 'F12.7'; unit = 'km/s'; disp = 'F12.7'; start = 600\n",
      "    name = 'e_Vbroad'; format = 'F13.8'; unit = 'km/s'; disp = 'F13.8'; start = 613\n",
      "    name = 'o_Vbroad'; format = 'F5.1'; disp = 'F5.1'; start = 627\n",
      "    name = 'VarFlag'; format = 'A13'; start = 633\n",
      "    name = 'NSS'; format = 'I1'; disp = 'I1'; start = 647\n",
      "    name = 'RVS'; format = 'I1'; disp = 'I1'; start = 649\n",
      ")\n"
     ]
    }
   ],
   "source": [
    "dr3stars = fits.open('gaiadr3_cluster_stars.fits')\n",
    "dr3stars.info()\n",
    "print(dr3stars[1].columns)\n",
    "stars = pd.DataFrame(dr3stars[1].data)\n",
    "stars['Name'] = stars['Name'].str.strip()\n",
    "stars = stars[stars['Prob']>0.8]\n",
    "clcounts = stars.groupby(['Name']).size().reset_index(name='count') "
   ]
  },
  {
   "cell_type": "markdown",
   "metadata": {},
   "source": [
    "### Task 1:\n",
    "Use your stars dataframe to calculate the following 6 sample quantities per cluster: \n",
    "- the number of\n",
    "stars in the cluster �∗; \n",
    "- the mean parallax, �$, of the stars in the cluster;\n",
    "- the standard deviation �& of\n",
    "the parallax of the stars in the cluster;\n",
    "- the ‘size’ of the cluster �pos calculated using the standard\n",
    "deviation in RA and Dec position of the stars1\n",
    ";\n",
    "- the mean proper motion of the cluster stars �̅;\n",
    "- the standard deviation of the proper motion of the cluster stars �- (which can be calculated by adding in quadrature the RA and dec proper motion standard deviations, i.e. the same as for �pos). \n",
    "\n",
    "To help you do this in Pandas, you can adapt the code you used for Assignment 1:\n",
    "clusters_hiprob = stars_hiprob.groupby(['Name']).size().reset_index(name='n_star')\n",
    "clusters_sd_hiprob = stars_hiprob.groupby(['Name']).std(numeric_only=True).reset_index()\n",
    "where the .std method calculates the sample standard deviations for all numerical quantities in the\n",
    "stars data frame grouped according to cluster name, and a similar method exists for the sample\n",
    "mean. Those can then be used to add the required columns to the dataframe with �∗.\n",
    "\n",
    "\n",
    "Now, select only the clusters which satisfy �∗ > 200, �pos < 1∘\n",
    "and for these clusters plot the 5\n",
    "astrometric quantities only (i.e. excluding �∗) in a scatter-matrix plot, to compare each pair of\n",
    "quantities and show their histograms. Comment on whether there are any clear correlations revealed\n",
    "by the scatter plots.\n",
    "\n",
    "\n",
    "### Idea:\n",
    "* We can use the pandas 'groupby' function to grab all the stars from a cluster and perform our operation\n",
    "* Make a new pd to hold our resulting data\n",
    "* Modify last weeks plotting code (write a function this time!) for our corner plot\n",
    "* Name of 6 parameters \n",
    "    - 'count' : # Number of stars in the cluster\n",
    "    - 'Plx' : # Parallax of the star\n",
    "    - 'RAdeg' : #  RA in deg\n",
    "    - 'pmra' : # proper motion of the star\n",
    "\n",
    "### Assumptions\n",
    "- N/A for this problem "
   ]
  },
  {
   "cell_type": "code",
   "execution_count": 21,
   "metadata": {},
   "outputs": [
    {
     "data": {
      "text/plain": [
       "1291586    0.8721\n",
       "1291588    0.8907\n",
       "1291591    0.8960\n",
       "1291594    0.8100\n",
       "1291595    0.8281\n",
       "            ...  \n",
       "1291922    0.8562\n",
       "1291923    0.8714\n",
       "1291924    0.8419\n",
       "1291925    0.9300\n",
       "1291928    0.8469\n",
       "Name: Plx, Length: 166, dtype: float64"
      ]
     },
     "execution_count": 21,
     "metadata": {},
     "output_type": "execute_result"
    }
   ],
   "source": [
    "my_stars_plx = stars[stars['Name'] == 'vdBergh_92']['Plx']\n",
    "my_stars_plx"
   ]
  },
  {
   "cell_type": "code",
   "execution_count": 3,
   "metadata": {},
   "outputs": [
    {
     "name": "stdout",
     "output_type": "stream",
     "text": [
      "             num_stars  mean_parallax  std_parallax  mean_proper_motion  \\\n",
      "Name                                                                      \n",
      "BH_131             227       0.125637      0.046214            6.536827   \n",
      "BH_140             338       0.190195      0.043486           14.897046   \n",
      "BH_66              355       0.123089      0.044962            5.470541   \n",
      "Berkeley_36        217       0.217359      0.065872            1.967901   \n",
      "Berkeley_39        211       0.226982      0.038289            2.371439   \n",
      "...                ...            ...           ...                 ...   \n",
      "UBC_461            231       0.298768      0.031775            4.096675   \n",
      "UBC_517            256       0.405671      0.022682            5.685520   \n",
      "UBC_600            390       0.171171      0.039550            1.191558   \n",
      "UFMG_2             212       0.377292      0.026794            5.382440   \n",
      "UFMG_38            246       0.297418      0.053870            3.182825   \n",
      "\n",
      "             cluster_size  std_proper_motion  \n",
      "Name                                          \n",
      "BH_131           0.221680           0.154404  \n",
      "BH_140           0.127424           0.129645  \n",
      "BH_66            0.180838           0.229493  \n",
      "Berkeley_36      0.063243           0.099389  \n",
      "Berkeley_39      0.045639           0.068647  \n",
      "...                   ...                ...  \n",
      "UBC_461          0.419239           0.109858  \n",
      "UBC_517          0.716871           0.127498  \n",
      "UBC_600          0.721515           0.134289  \n",
      "UFMG_2           0.073233           0.102454  \n",
      "UFMG_38          0.137607           0.138266  \n",
      "\n",
      "[198 rows x 6 columns]\n"
     ]
    }
   ],
   "source": [
    "# Cell to calculate cluster stastics \n",
    "# Group by 'Name' and calculate the required quantities\n",
    "cluster_stats = stars.groupby('Name').agg(\n",
    "    num_stars=('Name', 'count'),  # Number of stars \n",
    "    mean_parallax=('Plx', 'mean'),  # Mean parallax\n",
    "    std_parallax=('Plx', 'std'),  # STD parallax\n",
    "    mean_proper_motion=('pmRA', 'mean'),  # Mean proper motion\n",
    ")\n",
    "\n",
    "# Mean Proper motion\n",
    "# Quadrature sum of RA and dec to calculate proper motion\n",
    "mean_pmRA = stars.groupby('Name')['pmRA'].agg('mean')\n",
    "mean_pmDEC = stars.groupby('Name')['pmDE'].agg('mean') # Ugh why is the data using 'DE' not 'DEC'??\n",
    "mean_proper_motion = (mean_pmRA**2 + mean_pmDEC**2)**0.5\n",
    "cluster_stats['mean_proper_motion'] = mean_proper_motion\n",
    "\n",
    "# Size\n",
    "# Quadrature sum of RA and dec to calculate 'Size'\n",
    "std_radeg = stars.groupby('Name')['RAdeg'].agg('std')\n",
    "std_decdeg = stars.groupby('Name')['DEdeg'].agg('std') # Ugh why is the data using 'DE' not 'DEC'??\n",
    "size = (std_radeg**2 + std_decdeg**2)**0.5\n",
    "cluster_stats['cluster_size'] = size\n",
    "\n",
    "# STD proper motion\n",
    "# Quadrature sum of RA and dec proper motion standard deviations\n",
    "std_pm_ra = stars.groupby('Name')['pmRA'].agg('std')\n",
    "std_pm_dec = stars.groupby('Name')['pmDE'].agg('std')\n",
    "std_proper_motion = (std_pm_ra**2 + std_pm_dec**2)**0.5\n",
    "\n",
    "# Add the calculated standard deviation of proper motion to the cluster_stats DataFrame\n",
    "cluster_stats['std_proper_motion'] = std_proper_motion\n",
    "\n",
    "# Filter only keeping num_stars > 200 & cluster_size < 1 degree\n",
    "filtered_cluster_stats = cluster_stats[(cluster_stats['num_stars'] > 200) & (cluster_stats['cluster_size'] < 1)]\n",
    "print(filtered_cluster_stats)\n",
    "\n",
    "\n"
   ]
  },
  {
   "cell_type": "code",
   "execution_count": 12,
   "metadata": {},
   "outputs": [
    {
     "data": {
      "image/png": "[encoded data removed]",
      "text/plain": [
       "<Figure size 864x864 with 25 Axes>"
      ]
     },
     "metadata": {
      "needs_background": "light"
     },
     "output_type": "display_data"
    }
   ],
   "source": [
    "# Plotting cell\n",
    "\n",
    "# Define labels and colors\n",
    "labels = ['mean_parallax', 'std_parallax', 'mean_proper_motion', 'cluster_size', 'std_proper_motion']\n",
    "ndims = len(labels)\n",
    "\n",
    "\n",
    "# Nested for loop for plotting\n",
    "fig, axes = plt.subplots(ndims, ndims, figsize=(12, 12))\n",
    "fig.subplots_adjust(wspace=0.5, hspace=0.4)\n",
    "plotting_df = filtered_cluster_stats\n",
    "\n",
    "for i in range(ndims):  # y dimension of the grid\n",
    "    for j in range(ndims):  # x dimension of the grid\n",
    "        axes[i, j].tick_params(axis='both', which='major', labelsize=12, width=2, length=6)\n",
    "\n",
    "        if i == j:\n",
    "            axes[i, j].hist(plotting_df[labels[i]].values, bins=20, color='green', alpha=0.7)\n",
    "        elif i > j:\n",
    "            axes[i, j].scatter(plotting_df[labels[j]].values, plotting_df[labels[i]].values, color='green', alpha=0.7)\n",
    "        else:\n",
    "            axes[i, j].axis('off')\n",
    "\n",
    "        if j == 0:\n",
    "            if i == j:\n",
    "                axes[i, j].set_ylabel('counts', fontsize=12)\n",
    "            else:\n",
    "                axes[i, j].set_ylabel(labels[i], fontsize=12)\n",
    "\n",
    "        if i == ndims - 1:\n",
    "            axes[i, j].set_xlabel(labels[j], fontsize=12)\n",
    "\n",
    "plt.suptitle('filtered_cluster_stats \\n N = ' + str(len(plotting_df[labels[i]].values)), size=20, y=0.9)\n",
    "plt.show()"
   ]
  },
  {
   "cell_type": "markdown",
   "metadata": {},
   "source": [
    "### 1 Comments:\n",
    "\n",
    "Judging by the scatter matrix plot (aka the corner plot), there are some very clear correlations of different parameters. They do not appear as independent Guassians. However the indiivudal parameters do appear as  Gaussian distrubtions. \n",
    "\n",
    "### Add more comments\n",
    "\n"
   ]
  },
  {
   "cell_type": "markdown",
   "metadata": {},
   "source": [
    "### Task 2 Correlation tests:\n",
    "\n",
    "### A. \n",
    "Now search for correlations by calculating the Pearson and Spearman correlation coefficients\n",
    "and p-values for each of the combinations shown in the scatter-matrix plots. Comment on\n",
    "whether the tests are appropriate given the observed distributions of the measured\n",
    "quantities.\n",
    "### B. \n",
    "You can improve the situation by performing the tests on log-transformed data (i.e. on the\n",
    "logarithm of the quantities instead of the original values). Why should this make the tests\n",
    "more reliable? Finally, comment on your results and their implications.\n"
   ]
  },
  {
   "cell_type": "code",
   "execution_count": 11,
   "metadata": {},
   "outputs": [
    {
     "name": "stdout",
     "output_type": "stream",
     "text": [
      "2A\n"
     ]
    },
    {
     "name": "stderr",
     "output_type": "stream",
     "text": [
      "/tmp/ipykernel_7281/2028896275.py:18: FutureWarning: The behavior of DataFrame concatenation with empty or all-NA entries is deprecated. In a future version, this will no longer exclude empty or all-NA columns when determining the result dtypes. To retain the old behavior, exclude the relevant entries before the concat operation.\n",
      "  correlation_results_df = pd.concat([\n"
     ]
    },
    {
     "data": {
      "text/html": [
       "<div>\n",
       "<style scoped>\n",
       "    .dataframe tbody tr th:only-of-type {\n",
       "        vertical-align: middle;\n",
       "    }\n",
       "\n",
       "    .dataframe tbody tr th {\n",
       "        vertical-align: top;\n",
       "    }\n",
       "\n",
       "    .dataframe thead th {\n",
       "        text-align: right;\n",
       "    }\n",
       "</style>\n",
       "<table border=\"1\" class=\"dataframe\">\n",
       "  <thead>\n",
       "    <tr style=\"text-align: right;\">\n",
       "      <th></th>\n",
       "      <th>Comparison</th>\n",
       "      <th>Pearson Coefficient</th>\n",
       "      <th>Pearson P-Value</th>\n",
       "      <th>Spearman Coefficient</th>\n",
       "      <th>Spearman P-Value</th>\n",
       "    </tr>\n",
       "  </thead>\n",
       "  <tbody>\n",
       "    <tr>\n",
       "      <th>0</th>\n",
       "      <td>mean_parallax vs std_parallax</td>\n",
       "      <td>0.047611</td>\n",
       "      <td>5.053547e-01</td>\n",
       "      <td>-0.376186</td>\n",
       "      <td>4.712017e-08</td>\n",
       "    </tr>\n",
       "    <tr>\n",
       "      <th>1</th>\n",
       "      <td>mean_parallax vs mean_proper_motion</td>\n",
       "      <td>0.668548</td>\n",
       "      <td>5.222066e-27</td>\n",
       "      <td>0.051292</td>\n",
       "      <td>4.729721e-01</td>\n",
       "    </tr>\n",
       "    <tr>\n",
       "      <th>2</th>\n",
       "      <td>mean_parallax vs cluster_size</td>\n",
       "      <td>0.476555</td>\n",
       "      <td>1.275929e-12</td>\n",
       "      <td>0.373636</td>\n",
       "      <td>5.897056e-08</td>\n",
       "    </tr>\n",
       "    <tr>\n",
       "      <th>3</th>\n",
       "      <td>mean_parallax vs std_proper_motion</td>\n",
       "      <td>0.228468</td>\n",
       "      <td>1.206247e-03</td>\n",
       "      <td>0.025229</td>\n",
       "      <td>7.242273e-01</td>\n",
       "    </tr>\n",
       "    <tr>\n",
       "      <th>4</th>\n",
       "      <td>std_parallax vs mean_proper_motion</td>\n",
       "      <td>0.129134</td>\n",
       "      <td>6.980531e-02</td>\n",
       "      <td>-0.013398</td>\n",
       "      <td>8.513929e-01</td>\n",
       "    </tr>\n",
       "    <tr>\n",
       "      <th>5</th>\n",
       "      <td>std_parallax vs cluster_size</td>\n",
       "      <td>0.341305</td>\n",
       "      <td>8.621712e-07</td>\n",
       "      <td>0.208774</td>\n",
       "      <td>3.160198e-03</td>\n",
       "    </tr>\n",
       "    <tr>\n",
       "      <th>6</th>\n",
       "      <td>std_parallax vs std_proper_motion</td>\n",
       "      <td>0.713024</td>\n",
       "      <td>4.760937e-32</td>\n",
       "      <td>0.604036</td>\n",
       "      <td>4.484188e-21</td>\n",
       "    </tr>\n",
       "    <tr>\n",
       "      <th>7</th>\n",
       "      <td>mean_proper_motion vs cluster_size</td>\n",
       "      <td>0.236015</td>\n",
       "      <td>8.156744e-04</td>\n",
       "      <td>-0.005288</td>\n",
       "      <td>9.410603e-01</td>\n",
       "    </tr>\n",
       "    <tr>\n",
       "      <th>8</th>\n",
       "      <td>mean_proper_motion vs std_proper_motion</td>\n",
       "      <td>0.264974</td>\n",
       "      <td>1.615733e-04</td>\n",
       "      <td>0.153248</td>\n",
       "      <td>3.112366e-02</td>\n",
       "    </tr>\n",
       "    <tr>\n",
       "      <th>9</th>\n",
       "      <td>cluster_size vs std_proper_motion</td>\n",
       "      <td>0.403202</td>\n",
       "      <td>3.872148e-09</td>\n",
       "      <td>0.554065</td>\n",
       "      <td>2.508930e-17</td>\n",
       "    </tr>\n",
       "  </tbody>\n",
       "</table>\n",
       "</div>"
      ],
      "text/plain": [
       "                                Comparison  Pearson Coefficient  \\\n",
       "0            mean_parallax vs std_parallax             0.047611   \n",
       "1      mean_parallax vs mean_proper_motion             0.668548   \n",
       "2            mean_parallax vs cluster_size             0.476555   \n",
       "3       mean_parallax vs std_proper_motion             0.228468   \n",
       "4       std_parallax vs mean_proper_motion             0.129134   \n",
       "5             std_parallax vs cluster_size             0.341305   \n",
       "6        std_parallax vs std_proper_motion             0.713024   \n",
       "7       mean_proper_motion vs cluster_size             0.236015   \n",
       "8  mean_proper_motion vs std_proper_motion             0.264974   \n",
       "9        cluster_size vs std_proper_motion             0.403202   \n",
       "\n",
       "   Pearson P-Value  Spearman Coefficient  Spearman P-Value  \n",
       "0     5.053547e-01             -0.376186      4.712017e-08  \n",
       "1     5.222066e-27              0.051292      4.729721e-01  \n",
       "2     1.275929e-12              0.373636      5.897056e-08  \n",
       "3     1.206247e-03              0.025229      7.242273e-01  \n",
       "4     6.980531e-02             -0.013398      8.513929e-01  \n",
       "5     8.621712e-07              0.208774      3.160198e-03  \n",
       "6     4.760937e-32              0.604036      4.484188e-21  \n",
       "7     8.156744e-04             -0.005288      9.410603e-01  \n",
       "8     1.615733e-04              0.153248      3.112366e-02  \n",
       "9     3.872148e-09              0.554065      2.508930e-17  "
      ]
     },
     "execution_count": 11,
     "metadata": {},
     "output_type": "execute_result"
    }
   ],
   "source": [
    "# 2A\n",
    "# Create an empty DataFrame to store the results\n",
    "correlation_results_df = pd.DataFrame(columns=['Comparison', 'Pearson Coefficient',\n",
    "                                               'Pearson P-Value', 'Spearman Coefficient', 'Spearman P-Value'])\n",
    "\n",
    "\n",
    "# Calculate correlation coefficients and p-values\n",
    "for label1, label2 in combinations(labels, 2): # Fancy nested for loop\n",
    "\n",
    "    # Calculate Pearson correlation coefficient and p-value\n",
    "    pearson_corr, pearson_p_value = pearsonr(filtered_cluster_stats[label1], filtered_cluster_stats[label2])\n",
    "\n",
    "    # Calculate Spearman correlation coefficient and p-value\n",
    "    spearman_corr, spearman_p_value = spearmanr(filtered_cluster_stats[label1], filtered_cluster_stats[label2])\n",
    "\n",
    "    # Place results in pd, this is similar to a dict\n",
    "    comparison_key = f'{label1} vs {label2}'\n",
    "    correlation_results_df = pd.concat([\n",
    "        correlation_results_df,\n",
    "        pd.DataFrame({\n",
    "            'Comparison': [comparison_key],\n",
    "            'Pearson Coefficient': [pearson_corr],\n",
    "            'Pearson P-Value': [pearson_p_value],\n",
    "            'Spearman Coefficient': [spearman_corr],\n",
    "            'Spearman P-Value': [spearman_p_value]\n",
    "        })\n",
    "    ], ignore_index=True)\n",
    "\n",
    "# Printing it out like this looks much nicer\n",
    "print('2A')\n",
    "correlation_results_df"
   ]
  },
  {
   "cell_type": "code",
   "execution_count": 10,
   "metadata": {},
   "outputs": [
    {
     "name": "stdout",
     "output_type": "stream",
     "text": [
      "2B\n"
     ]
    },
    {
     "name": "stderr",
     "output_type": "stream",
     "text": [
      "/tmp/ipykernel_7281/3359116749.py:18: FutureWarning: The behavior of DataFrame concatenation with empty or all-NA entries is deprecated. In a future version, this will no longer exclude empty or all-NA columns when determining the result dtypes. To retain the old behavior, exclude the relevant entries before the concat operation.\n",
      "  log_correlation_results_df = pd.concat([\n"
     ]
    },
    {
     "data": {
      "text/html": [
       "<div>\n",
       "<style scoped>\n",
       "    .dataframe tbody tr th:only-of-type {\n",
       "        vertical-align: middle;\n",
       "    }\n",
       "\n",
       "    .dataframe tbody tr th {\n",
       "        vertical-align: top;\n",
       "    }\n",
       "\n",
       "    .dataframe thead th {\n",
       "        text-align: right;\n",
       "    }\n",
       "</style>\n",
       "<table border=\"1\" class=\"dataframe\">\n",
       "  <thead>\n",
       "    <tr style=\"text-align: right;\">\n",
       "      <th></th>\n",
       "      <th>Comparison</th>\n",
       "      <th>Pearson Coefficient</th>\n",
       "      <th>Pearson P-Value</th>\n",
       "      <th>Spearman Coefficient</th>\n",
       "      <th>Spearman P-Value</th>\n",
       "    </tr>\n",
       "  </thead>\n",
       "  <tbody>\n",
       "    <tr>\n",
       "      <th>0</th>\n",
       "      <td>mean_parallax vs std_parallax</td>\n",
       "      <td>-0.252036</td>\n",
       "      <td>3.409650e-04</td>\n",
       "      <td>-0.376186</td>\n",
       "      <td>4.712017e-08</td>\n",
       "    </tr>\n",
       "    <tr>\n",
       "      <th>1</th>\n",
       "      <td>mean_parallax vs mean_proper_motion</td>\n",
       "      <td>0.196391</td>\n",
       "      <td>5.553836e-03</td>\n",
       "      <td>0.051292</td>\n",
       "      <td>4.729721e-01</td>\n",
       "    </tr>\n",
       "    <tr>\n",
       "      <th>2</th>\n",
       "      <td>mean_parallax vs cluster_size</td>\n",
       "      <td>0.428522</td>\n",
       "      <td>3.012242e-10</td>\n",
       "      <td>0.373636</td>\n",
       "      <td>5.897056e-08</td>\n",
       "    </tr>\n",
       "    <tr>\n",
       "      <th>3</th>\n",
       "      <td>mean_parallax vs std_proper_motion</td>\n",
       "      <td>0.111445</td>\n",
       "      <td>1.180250e-01</td>\n",
       "      <td>0.025229</td>\n",
       "      <td>7.242273e-01</td>\n",
       "    </tr>\n",
       "    <tr>\n",
       "      <th>4</th>\n",
       "      <td>std_parallax vs mean_proper_motion</td>\n",
       "      <td>-0.002964</td>\n",
       "      <td>9.669425e-01</td>\n",
       "      <td>-0.013398</td>\n",
       "      <td>8.513929e-01</td>\n",
       "    </tr>\n",
       "    <tr>\n",
       "      <th>5</th>\n",
       "      <td>std_parallax vs cluster_size</td>\n",
       "      <td>0.264515</td>\n",
       "      <td>1.660300e-04</td>\n",
       "      <td>0.208774</td>\n",
       "      <td>3.160198e-03</td>\n",
       "    </tr>\n",
       "    <tr>\n",
       "      <th>6</th>\n",
       "      <td>std_parallax vs std_proper_motion</td>\n",
       "      <td>0.673524</td>\n",
       "      <td>1.576212e-27</td>\n",
       "      <td>0.604036</td>\n",
       "      <td>4.484188e-21</td>\n",
       "    </tr>\n",
       "    <tr>\n",
       "      <th>7</th>\n",
       "      <td>mean_proper_motion vs cluster_size</td>\n",
       "      <td>-0.027338</td>\n",
       "      <td>7.022286e-01</td>\n",
       "      <td>-0.005288</td>\n",
       "      <td>9.410603e-01</td>\n",
       "    </tr>\n",
       "    <tr>\n",
       "      <th>8</th>\n",
       "      <td>mean_proper_motion vs std_proper_motion</td>\n",
       "      <td>0.169528</td>\n",
       "      <td>1.695536e-02</td>\n",
       "      <td>0.153248</td>\n",
       "      <td>3.112366e-02</td>\n",
       "    </tr>\n",
       "    <tr>\n",
       "      <th>9</th>\n",
       "      <td>cluster_size vs std_proper_motion</td>\n",
       "      <td>0.557149</td>\n",
       "      <td>1.535025e-17</td>\n",
       "      <td>0.554065</td>\n",
       "      <td>2.508930e-17</td>\n",
       "    </tr>\n",
       "  </tbody>\n",
       "</table>\n",
       "</div>"
      ],
      "text/plain": [
       "                                Comparison  Pearson Coefficient  \\\n",
       "0            mean_parallax vs std_parallax            -0.252036   \n",
       "1      mean_parallax vs mean_proper_motion             0.196391   \n",
       "2            mean_parallax vs cluster_size             0.428522   \n",
       "3       mean_parallax vs std_proper_motion             0.111445   \n",
       "4       std_parallax vs mean_proper_motion            -0.002964   \n",
       "5             std_parallax vs cluster_size             0.264515   \n",
       "6        std_parallax vs std_proper_motion             0.673524   \n",
       "7       mean_proper_motion vs cluster_size            -0.027338   \n",
       "8  mean_proper_motion vs std_proper_motion             0.169528   \n",
       "9        cluster_size vs std_proper_motion             0.557149   \n",
       "\n",
       "   Pearson P-Value  Spearman Coefficient  Spearman P-Value  \n",
       "0     3.409650e-04             -0.376186      4.712017e-08  \n",
       "1     5.553836e-03              0.051292      4.729721e-01  \n",
       "2     3.012242e-10              0.373636      5.897056e-08  \n",
       "3     1.180250e-01              0.025229      7.242273e-01  \n",
       "4     9.669425e-01             -0.013398      8.513929e-01  \n",
       "5     1.660300e-04              0.208774      3.160198e-03  \n",
       "6     1.576212e-27              0.604036      4.484188e-21  \n",
       "7     7.022286e-01             -0.005288      9.410603e-01  \n",
       "8     1.695536e-02              0.153248      3.112366e-02  \n",
       "9     1.535025e-17              0.554065      2.508930e-17  "
      ]
     },
     "execution_count": 10,
     "metadata": {},
     "output_type": "execute_result"
    }
   ],
   "source": [
    "# 2B log this time\n",
    "# Create an empty DataFrame to store the results\n",
    "log_correlation_results_df = pd.DataFrame(columns=['Comparison', 'Pearson Coefficient',\n",
    "                                               'Pearson P-Value', 'Spearman Coefficient', 'Spearman P-Value'])\n",
    "\n",
    "\n",
    "# Calculate correlation coefficients and p-values\n",
    "for label1, label2 in combinations(labels, 2): # Fancy nested for loop\n",
    "\n",
    "    # Calculate Pearson correlation coefficient and p-value\n",
    "    pearson_corr, pearson_p_value = pearsonr(np.log10(filtered_cluster_stats[label1]), np.log10(filtered_cluster_stats[label2]))\n",
    "\n",
    "    # Calculate Spearman correlation coefficient and p-value\n",
    "    spearman_corr, spearman_p_value = spearmanr(np.log10(filtered_cluster_stats[label1]), np.log10(filtered_cluster_stats[label2]))\n",
    "\n",
    "    # Place results in pd, this is similar to a dict\n",
    "    comparison_key = f'{label1} vs {label2}'\n",
    "    log_correlation_results_df = pd.concat([\n",
    "        log_correlation_results_df,\n",
    "        pd.DataFrame({\n",
    "            'Comparison': [comparison_key],\n",
    "            'Pearson Coefficient': [pearson_corr],\n",
    "            'Pearson P-Value': [pearson_p_value],\n",
    "            'Spearman Coefficient': [spearman_corr],\n",
    "            'Spearman P-Value': [spearman_p_value]\n",
    "        })\n",
    "    ], ignore_index=True)\n",
    "\n",
    "\n",
    "# Printing it out like this looks much nicer\n",
    "print('2B')\n",
    "log_correlation_results_df"
   ]
  },
  {
   "cell_type": "markdown",
   "metadata": {},
   "source": [
    "### 2 Comments:\n"
   ]
  },
  {
   "cell_type": "markdown",
   "metadata": {},
   "source": [
    "### 3 Intro to Bayesian thinking:\n",
    "\n",
    "Now randomly select a cluster from the sample used in Task 2. Using the parallaxes of the individual\n",
    "stars in the cluster, use Bayes’ theorem to calculate the posterior pdf for the distance � (in kpc) to the\n",
    "cluster, using the formula � = 1/� where � is the parallax in milliarcsec (mas). Gaia has a known\n",
    "‘zero-point’ offset - a systematic error – in the parallax, so before you do your calculation you\n",
    "should first add a correction of 0.029 mas to the parallax measurements. You should calculate the\n",
    "posterior pdf for two different prior pdfs:\n",
    "\n",
    "a. a uniform prior distrubution \n",
    "\n",
    "b. A more realistic pdf corresponding to constant volume density modified by an exponential\n",
    "decrease with distance: p(d) ~ d^2 exp(-d/l), where L = 1kpc is a charastric length scale\n",
    "\n",
    "You may assume that the corrected parallax measurements are normally distributed about the true\n",
    "parallax, with standard deviation given by the errors on the parallax measurements. For each prior,\n",
    "calculate the distance corresponding to the mode (maximum) of the posterior pdf, plot your posterior\n",
    "pdf (on the same plot for both priors) and determine the 1-� confidence interval on the distance and\n",
    "indicate the mode and interval on your pdf. Also on the same plot, compare the Bayesian posterior\n",
    "pdfs with the pdf you obtain just by assuming the normal distribution with mean obtained by\n",
    "inverting the mean parallax for the cluster, �$ (to obtain �) and standard deviation obtained by\n",
    "propagating the standard error on �$, to obtain the standard deviation on �.\n",
    "Finally, repeat the analysis above using just 10 stars from the cluster (you should pick a random subsample), to see the effect of smaller numbers.\n",
    "Hint for fast numerical calculation: to output a pandas data column to a numpy array which you can\n",
    "reshape as needed, use the .values method."
   ]
  },
  {
   "cell_type": "code",
   "execution_count": 30,
   "metadata": {},
   "outputs": [
    {
     "data": {
      "text/plain": [
       "0.029755800000000002"
      ]
     },
     "execution_count": 30,
     "metadata": {},
     "output_type": "execute_result"
    }
   ],
   "source": [
    "n_events = np.array([4,2,4,0,5,3,8,3])\n",
    "my_stars_plx = stars[stars['Name'] == 'vdBergh_92']['Plx']\n",
    "my_stars_plx\n",
    "n_events = my_stars_plx + gaia_corr # add correction factor \n",
    "\n",
    "np.min(n_events)"
   ]
  },
  {
   "cell_type": "code",
   "execution_count": 101,
   "metadata": {},
   "outputs": [
    {
     "name": "stdout",
     "output_type": "stream",
     "text": [
      "prior ()\n",
      "likel_prior (1000,)\n",
      "lam_array (1000,)\n"
     ]
    },
    {
     "data": {
      "image/png": "[encoded data removed]",
      "text/plain": [
       "<Figure size 432x288 with 1 Axes>"
      ]
     },
     "metadata": {
      "needs_background": "light"
     },
     "output_type": "display_data"
    }
   ],
   "source": [
    "# Assuming my_stars_plx is your array of parallax values\n",
    "my_stars_plx = stars[stars['Name'] == 'vdBergh_92']['Plx'].values\n",
    "n_events = my_stars_plx + gaia_corr  # Adding correction factor\n",
    "\n",
    "# Calculate mean and standard deviation from your data\n",
    "mean_plx = np.mean(my_stars_plx)\n",
    "std_plx = np.std(my_stars_plx)\n",
    "\n",
    "\n",
    "# Create a grid of 1000 values of lambda to calculate the posterior over:\n",
    "# lambda would be the true distance\n",
    "dist_arr = np.linspace(0.95/np.max(n_events), 1.05/np.min(n_events) ,1000)\n",
    "\n",
    "# Here we assume a uniform prior. The prior probability should integrate to 1, \n",
    "# although since the normalisation of the prior divides out of Bayes' formula it could have been arbitrary \n",
    "prior = 1    \n",
    "'''\n",
    "# This is the numerator in Bayes' formula, the likelihood multiplied by the prior. Note that we have to \n",
    "# reshape the events data array to be 2-dimensional, in the output array the 2nd dimension will \n",
    "# correspond to the lambda array values. Like np.sum, the numpy product function np.prod needs us to tell\n",
    "# it which axis to take the product over (the data axis for the likelihood calculation)\n",
    "likel_prior = np.prod(sps.poisson.pmf(n_events.reshape(len(n_events),1),mu=lam_array),axis=0)*prior\n",
    "\n",
    "# We calculate the denominator (the \"evidence\") with one of the integration functions.\n",
    "# The second parameter (x) is the array of parameter values we are integrating over.\n",
    "# The axis is the axis of the array we integrate over (by default the last one but we will state \n",
    "# it explicitly as an argument here anyway, for clarity):\n",
    "likel_prior_int = spint.simpson(likel_prior,lam_array,axis=0)\n",
    "\n",
    "\n",
    "\n",
    "# Now we normalise and we have our posterior pdf for lambda!\n",
    "posterior_pdf = likel_prior/likel_prior_int\n",
    "\n",
    "'''\n",
    "# Calculate the likelihood using a normal distribution\n",
    "#n_events.reshape(len(n_events),1)\n",
    "# likel_prior = np.prod(norm.pdf(lam_array, loc=1/mean_plx, scale=std_plx), axis=0) * prior\n",
    "\n",
    "likel_prior = norm.pdf(dist_arr, loc=1/mean_plx, scale=std_plx)\n",
    "\n",
    "print('prior', np.shape(prior))\n",
    "print('likel_prior', np.shape(likel_prior))\n",
    "print('lam_array', np.shape(lam_array))\n",
    "\n",
    "\n",
    "# Calculate the evidence (denominator) using Simpson's rule\n",
    "likel_prior_int = spint.simpson(likel_prior, lam_array, axis=0)\n",
    "\n",
    "# Normalize to get the posterior PDF for lambda\n",
    "posterior_pdf = likel_prior / likel_prior_int\n",
    "\n",
    "# And plot it...\n",
    "plt.figure()\n",
    "plt.axvline(1/mean_plx, label='mean_plx', linestyle='--', color='k')\n",
    "plt.plot(dist_arr, posterior_pdf, color='green')\n",
    "plt.xlabel(r'Distance (Kpc)',fontsize=12)\n",
    "plt.ylabel(r'posterior density',fontsize=12)\n",
    "plt.title('My 3a?')\n",
    "plt.savefig('max_3a',bbox_inches='tight')\n",
    "plt.show()"
   ]
  },
  {
   "cell_type": "code",
   "execution_count": 155,
   "metadata": {},
   "outputs": [
    {
     "name": "stdout",
     "output_type": "stream",
     "text": [
      "0.005881472025613832\n"
     ]
    },
    {
     "data": {
      "image/png": "[encoded data removed]",
      "text/plain": [
       "<Figure size 432x288 with 1 Axes>"
      ]
     },
     "metadata": {
      "needs_background": "light"
     },
     "output_type": "display_data"
    }
   ],
   "source": [
    "# 3a\n",
    "# new\n",
    "import numpy as np\n",
    "import scipy.stats as sps\n",
    "import scipy.integrate as spint\n",
    "import matplotlib.pyplot as plt\n",
    "\n",
    "# Assuming my_stars_plx is your array of parallax values\n",
    "my_stars_plx = stars[stars['Name'] == 'vdBergh_92']['Plx'].values\n",
    "n_events = my_stars_plx + gaia_corr  # Adding correction factor # 166\n",
    "\n",
    "# Calculate mean and standard deviation from your data\n",
    "mean_plx = np.mean(my_stars_plx)\n",
    "std_plx = np.std(my_stars_plx)\n",
    "\n",
    "# Create a grid of 1000 values of lambda to calculate the posterior over:\n",
    "# lambda would be the true distance\n",
    "# we are going a bit under and a bit over the min and max values\n",
    "dist_arr = np.linspace(0.8 / np.max(n_events), 1.2 / np.min(n_events), 1000)\n",
    "\n",
    "# Set parameters for log-normal distribution\n",
    "mu_ln = np.log(dist_arr) #np.log(n_events)\n",
    "sigma_ln = np.std(np.log(my_stars_plx))\n",
    "\n",
    "# Calculate log-likelihood for log-normal distribution\n",
    "loglikel_ln = np.sum(sps.lognorm.pdf(n_events.reshape(len(n_events),1), s=sigma_ln, scale=np.exp(mu_ln)), axis=0)\n",
    "\n",
    "# We can shift the function maximum to zero in log units, i.e. unity in linear units.\n",
    "# The shift is arbitrary; we just need to make the numbers manageable for the computer.\n",
    "likel_ln = np.exp(loglikel_ln - np.amax(loglikel_ln))\n",
    "\n",
    "likel_ln_int = spint.simpson(likel_ln, dist_arr, axis=0)\n",
    "\n",
    "print(likel_ln_int)\n",
    "\n",
    "# Now we normalize and we have our posterior pdf for lambda!\n",
    "posterior_pdf_ln = likel_ln / likel_ln_int\n",
    "\n",
    "# And plot it...\n",
    "plt.figure()\n",
    "plt.plot(dist_arr, posterior_pdf_ln)\n",
    "plt.xlabel(r'Distance (Kpc)', fontsize=12)\n",
    "plt.ylabel(r'posterior density', fontsize=12)\n",
    "plt.title('3A vdBergh_92')\n",
    "plt.savefig('3a_wip',bbox_inches='tight')\n",
    "plt.show()"
   ]
  },
  {
   "cell_type": "code",
   "execution_count": 154,
   "metadata": {},
   "outputs": [
    {
     "name": "stdout",
     "output_type": "stream",
     "text": [
      "0.005881472025613832\n"
     ]
    },
    {
     "data": {
      "image/png": "[encoded data removed]",
      "text/plain": [
       "<Figure size 432x288 with 1 Axes>"
      ]
     },
     "metadata": {
      "needs_background": "light"
     },
     "output_type": "display_data"
    }
   ],
   "source": [
    "# 3B\n",
    "\n",
    "import numpy as np\n",
    "import scipy.stats as sps\n",
    "import scipy.integrate as spint\n",
    "import matplotlib.pyplot as plt\n",
    "\n",
    "# Assuming my_stars_plx is your array of parallax values\n",
    "my_stars_plx = stars[stars['Name'] == 'vdBergh_92']['Plx'].values\n",
    "n_events = my_stars_plx + gaia_corr  # Adding correction factor # 166\n",
    "\n",
    "# Calculate mean and standard deviation from your data\n",
    "mean_plx = np.mean(my_stars_plx)\n",
    "std_plx = np.std(my_stars_plx)\n",
    "\n",
    "# Create a grid of 1000 values of lambda to calculate the posterior over:\n",
    "# lambda would be the true distance\n",
    "# we are going a bit under and a bit over the min and max values\n",
    "dist_arr = np.linspace(0.8 / np.max(n_events), 1.2 / np.min(n_events), 1000)\n",
    "\n",
    "# Set parameters for log-normal distribution\n",
    "mu_ln = np.log(dist_arr) #np.log(n_events)\n",
    "sigma_ln = np.std(np.log(my_stars_plx))\n",
    "\n",
    "prior = (1/mean_plx)**2 * np.exp(mean_plx)\n",
    "\n",
    "# Calculate log-likelihood for log-normal distribution\n",
    "loglikel_ln = np.sum(sps.lognorm.pdf(n_events.reshape(len(n_events),1), s=sigma_ln, scale=np.exp(mu_ln)), axis=0) + np.log(prior)\n",
    "\n",
    "# We can shift the function maximum to zero in log units, i.e. unity in linear units.\n",
    "# The shift is arbitrary; we just need to make the numbers manageable for the computer.\n",
    "likel_ln = np.exp(loglikel_ln - np.amax(loglikel_ln))\n",
    "\n",
    "likel_ln_int = spint.simpson(likel_ln, dist_arr, axis=0)\n",
    "\n",
    "print(likel_ln_int)\n",
    "\n",
    "# Now we normalize and we have our posterior pdf for lambda!\n",
    "posterior_pdf_ln = likel_ln / likel_ln_int\n",
    "\n",
    "# And plot it...\n",
    "plt.figure()\n",
    "plt.plot(dist_arr, posterior_pdf_ln)\n",
    "plt.xlabel(r'Distance (Kpc)', fontsize=12)\n",
    "plt.ylabel(r'posterior density', fontsize=12)\n",
    "plt.title('3A vdBergh_92')\n",
    "plt.savefig('3a_wip',bbox_inches='tight')\n",
    "plt.show()"
   ]
  },
  {
   "cell_type": "code",
   "execution_count": 195,
   "metadata": {},
   "outputs": [
    {
     "data": {
      "text/plain": [
       "'ASCC_108'"
      ]
     },
     "execution_count": 195,
     "metadata": {},
     "output_type": "execute_result"
    }
   ],
   "source": [
    "stars['Name'][1000]"
   ]
  },
  {
   "cell_type": "code",
   "execution_count": 196,
   "metadata": {},
   "outputs": [
    {
     "name": "stdout",
     "output_type": "stream",
     "text": [
      "0.0037655729632500917\n",
      "0.0037655729632500917\n"
     ]
    },
    {
     "data": {
      "image/png": "[encoded data removed]",
      "text/plain": [
       "<Figure size 1080x1080 with 1 Axes>"
      ]
     },
     "metadata": {
      "needs_background": "light"
     },
     "output_type": "display_data"
    }
   ],
   "source": [
    "# 3B\n",
    "\n",
    "import numpy as np\n",
    "import scipy.stats as sps\n",
    "import scipy.integrate as spint\n",
    "import matplotlib.pyplot as plt\n",
    "\n",
    "# Assuming my_stars_plx is your array of parallax values\n",
    "my_stars_plx = stars[stars['Name'] == 'ASCC_108']['Plx'].values\n",
    "n_events = my_stars_plx + gaia_corr  # Adding correction factor # 166\n",
    "\n",
    "# Calculate mean and standard deviation from your data\n",
    "mean_plx = np.mean(my_stars_plx)\n",
    "std_plx = np.std(my_stars_plx)\n",
    "\n",
    "# Create a grid of 1000 values of lambda to calculate the posterior over:\n",
    "# lambda would be the true distance\n",
    "# we are going a bit under and a bit over the min and max values\n",
    "dist_arr = np.linspace(0.8 / np.max(n_events), 1.2 / np.min(n_events), 1000)\n",
    "\n",
    "# Set parameters for log-normal distribution\n",
    "mu_ln = np.log(dist_arr) #np.log(n_events)\n",
    "sigma_ln = np.std(np.log(my_stars_plx))\n",
    "\n",
    "prior = (1/mean_plx)**2 * np.exp(mean_plx)\n",
    "\n",
    "# Calculate log-likelihood for log-normal distribution\n",
    "loglikel_ln = np.sum(sps.lognorm.pdf(n_events.reshape(len(n_events),1), s=sigma_ln, scale=np.exp(mu_ln)), axis=0) + np.log(prior)\n",
    "\n",
    "# We can shift the function maximum to zero in log units, i.e. unity in linear units.\n",
    "# The shift is arbitrary; we just need to make the numbers manageable for the computer.\n",
    "likel_ln = np.exp(loglikel_ln - np.amax(loglikel_ln))\n",
    "\n",
    "likel_ln_int = spint.simpson(likel_ln, dist_arr, axis=0)\n",
    "\n",
    "print(likel_ln_int)\n",
    "\n",
    "# Now we normalize and we have our posterior pdf for lambda!\n",
    "posterior_pdf_ln = likel_ln / likel_ln_int\n",
    "\n",
    "uniform_prior_post = posterior_pdf_ln\n",
    "\n",
    "# And plot it...\n",
    "plt.figure(figsize = (15,15))\n",
    "plt.plot(dist_arr, posterior_pdf_ln, color='k', linestyle='--', alpha=0.5)\n",
    "plt.xlabel(r'Distance (Kpc)', fontsize=12)\n",
    "plt.ylabel(r'posterior density', fontsize=12)\n",
    "plt.title('3A vdBergh_92')\n",
    "\n",
    "\n",
    "# 3a\n",
    "# new\n",
    "import numpy as np\n",
    "import scipy.stats as sps\n",
    "import scipy.integrate as spint\n",
    "import matplotlib.pyplot as plt\n",
    "\n",
    "\n",
    "# Calculate mean and standard deviation from your data\n",
    "mean_plx = np.mean(my_stars_plx)\n",
    "std_plx = np.std(my_stars_plx)\n",
    "\n",
    "# Create a grid of 1000 values of lambda to calculate the posterior over:\n",
    "# lambda would be the true distance\n",
    "# we are going a bit under and a bit over the min and max values\n",
    "dist_arr = np.linspace(0.8 / np.max(n_events), 1.2 / np.min(n_events), 1000)\n",
    "\n",
    "# Set parameters for log-normal distribution\n",
    "mu_ln = np.log(dist_arr) #np.log(n_events)\n",
    "sigma_ln = np.std(np.log(my_stars_plx))\n",
    "\n",
    "# Calculate log-likelihood for log-normal distribution\n",
    "loglikel_ln = np.sum(sps.lognorm.pdf(n_events.reshape(len(n_events),1), s=sigma_ln, scale=np.exp(mu_ln)), axis=0)\n",
    "\n",
    "# We can shift the function maximum to zero in log units, i.e. unity in linear units.\n",
    "# The shift is arbitrary; we just need to make the numbers manageable for the computer.\n",
    "likel_ln = np.exp(loglikel_ln - np.amax(loglikel_ln))\n",
    "\n",
    "likel_ln_int = spint.simpson(likel_ln, dist_arr, axis=0)\n",
    "\n",
    "print(likel_ln_int)\n",
    "\n",
    "# Now we normalize and we have our posterior pdf for lambda!\n",
    "posterior_pdf_ln = likel_ln / likel_ln_int\n",
    "\n",
    "\n",
    "# And plot it...\n",
    "plt.plot(dist_arr, posterior_pdf_ln, alpha=0.5, color='magenta')\n",
    "plt.xlabel(r'Distance (Kpc)', fontsize=12)\n",
    "plt.ylabel(r'posterior density', fontsize=12)\n",
    "plt.title('3A vdBergh_92')\n",
    "plt.savefig('3a_wip.pdf',bbox_inches='tight')\n",
    "plt.show()"
   ]
  },
  {
   "cell_type": "code",
   "execution_count": 197,
   "metadata": {},
   "outputs": [
    {
     "data": {
      "text/plain": [
       "0.8440972527472527"
      ]
     },
     "execution_count": 197,
     "metadata": {},
     "output_type": "execute_result"
    }
   ],
   "source": [
    "mean_plx"
   ]
  },
  {
   "cell_type": "code",
   "execution_count": 198,
   "metadata": {},
   "outputs": [
    {
     "data": {
      "text/plain": [
       "0.03837262135137082"
      ]
     },
     "execution_count": 198,
     "metadata": {},
     "output_type": "execute_result"
    }
   ],
   "source": [
    "std_plx"
   ]
  },
  {
   "cell_type": "code",
   "execution_count": null,
   "metadata": {},
   "outputs": [],
   "source": []
  }
 ],
 "metadata": {
  "kernelspec": {
   "display_name": "base",
   "language": "python",
   "name": "python3"
  },
  "language_info": {
   "codemirror_mode": {
    "name": "ipython",
    "version": 3
   },
   "file_extension": ".py",
   "mimetype": "text/x-python",
   "name": "python",
   "nbconvert_exporter": "python",
   "pygments_lexer": "ipython3",
   "version": "3.9.12"
  }
 },
 "nbformat": 4,
 "nbformat_minor": 2
}
