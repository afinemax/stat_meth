{
 "cells": [
  {
   "cell_type": "markdown",
   "metadata": {},
   "source": [
    "### Maxwell A. Fine 14880725\n",
    "### Assingment 2: Stastical Methods in Astrophysics"
   ]
  },
  {
   "cell_type": "code",
   "execution_count": 2,
   "metadata": {},
   "outputs": [
    {
     "name": "stderr",
     "output_type": "stream",
     "text": [
      "/home/afinemax/anaconda3/lib/python3.9/site-packages/scipy/__init__.py:146: UserWarning: A NumPy version >=1.16.5 and <1.23.0 is required for this version of SciPy (detected version 1.26.3\n",
      "  warnings.warn(f\"A NumPy version >={np_minversion} and <{np_maxversion}\"\n"
     ]
    }
   ],
   "source": [
    "# imports\n",
    "import numpy as np\n",
    "import matplotlib.pyplot as plt\n",
    "import pandas as pd\n",
    "from astropy.io import fits\n",
    "import scipy.stats as sps\n",
    "from scipy.stats import ttest_ind\n",
    "from scipy.stats import kstest # not sure if we are supposed to do the 1 or 2 sample version\n",
    "\n",
    "\n",
    "# Set a seed for reproducibility\n",
    "random_seed = 42"
   ]
  },
  {
   "cell_type": "markdown",
   "metadata": {},
   "source": [
    "### Initial Setup\n",
    "First, load in the stars data as shown in Assignment 1, and create a dataframe containing only stars with Prob > 0.8, which you will use for the remainder of this assignment."
   ]
  },
  {
   "cell_type": "code",
   "execution_count": 5,
   "metadata": {},
   "outputs": [
    {
     "name": "stdout",
     "output_type": "stream",
     "text": [
      "Filename: gaiadr3_cluster_stars.fits\n",
      "No.    Name      Ver    Type      Cards   Dimensions   Format\n",
      "  0  PRIMARY       1 PrimaryHDU      93   ()      \n",
      "  1  members.dat    1 TableHDU       331   1291929R x 56C   [A20, I4, I19, I1, F10.8, F12.8, F10.8, F12.8, F10.8, F12.8, E11.4, E11.4, F10.8, E11.4, F10.8, E11.4, F10.8, F11.8, F11.8, E11.4, E11.4, E11.4, E11.4, E11.4, E11.4, I2, F12.8, F10.7, F11.8, F10.8, F19.8, F16.8, F18.8, F17.8, F18.8, F17.8, F10.7, F10.7, F10.7, E11.4, E11.4, E11.4, E9.3, F12.8, F4.1, F6.1, F5.1, F11.7, F11.8, F6.1, F12.7, F13.8, F5.1, A13, I1, I1]   \n"
     ]
    },
    {
     "name": "stdout",
     "output_type": "stream",
     "text": [
      "ColDefs(\n",
      "    name = 'Name'; format = 'A20'; start = 1\n",
      "    name = 'ID'; format = 'I4'; disp = 'I4'; start = 22\n",
      "    name = 'GaiaDR3'; format = 'I19'; disp = 'I19'; start = 27\n",
      "    name = 'inrt'; format = 'I1'; disp = 'I1'; start = 47\n",
      "    name = 'Prob'; format = 'F10.8'; disp = 'F10.8'; start = 49\n",
      "    name = 'RAdeg'; format = 'F12.8'; unit = 'deg'; disp = 'F12.8'; start = 60\n",
      "    name = 'e_RAdeg'; format = 'F10.8'; unit = 'arcsec'; disp = 'F10.8'; start = 73\n",
      "    name = 'DEdeg'; format = 'F12.8'; unit = 'deg'; disp = 'F12.8'; start = 84\n",
      "    name = 'e_DEdeg'; format = 'F10.8'; unit = 'arcsec'; disp = 'F10.8'; start = 97\n",
      "    name = 'GLON'; format = 'F12.8'; unit = 'deg'; disp = 'F12.8'; start = 108\n",
      "    name = 'GLAT'; format = 'E11.4'; unit = 'deg'; disp = 'E11.4'; start = 121\n",
      "    name = 'pmRA'; format = 'E11.4'; unit = 'mas/yr'; disp = 'E11.4'; start = 133\n",
      "    name = 'e_pmRA'; format = 'F10.8'; unit = 'mas/yr'; disp = 'F10.8'; start = 145\n",
      "    name = 'pmDE'; format = 'E11.4'; unit = 'mas/yr'; disp = 'E11.4'; start = 156\n",
      "    name = 'e_pmDE'; format = 'F10.8'; unit = 'mas/yr'; disp = 'F10.8'; start = 168\n",
      "    name = 'Plx'; format = 'E11.4'; unit = 'mas'; disp = 'E11.4'; start = 179\n",
      "    name = 'e_Plx'; format = 'F10.8'; unit = 'mas'; disp = 'F10.8'; start = 191\n",
      "    name = 'pscol'; format = 'F11.8'; unit = 'um-1'; disp = 'F11.8'; start = 202\n",
      "    name = 'e_pscol'; format = 'F11.8'; unit = 'um-1'; disp = 'F11.8'; start = 214\n",
      "    name = 'PlxpmRACor'; format = 'E11.4'; disp = 'E11.4'; start = 226\n",
      "    name = 'PlxpmDECor'; format = 'E11.4'; disp = 'E11.4'; start = 238\n",
      "    name = 'pmRApmDECor'; format = 'E11.4'; disp = 'E11.4'; start = 250\n",
      "    name = 'PlxpscolCor'; format = 'E11.4'; disp = 'E11.4'; start = 262\n",
      "    name = 'pmRApscolCor'; format = 'E11.4'; disp = 'E11.4'; start = 274\n",
      "    name = 'pmDEpscolCor'; format = 'E11.4'; disp = 'E11.4'; start = 286\n",
      "    name = 'Solved'; format = 'I2'; disp = 'I2'; start = 298\n",
      "    name = 'ELAT'; format = 'F12.8'; unit = 'deg'; disp = 'F12.8'; start = 301\n",
      "    name = 'nueff'; format = 'F10.7'; unit = 'um-1'; disp = 'F10.7'; start = 314\n",
      "    name = 'RUWE'; format = 'F11.8'; disp = 'F11.8'; start = 325\n",
      "    name = 'FidelityV1'; format = 'F10.8'; disp = 'F10.8'; start = 337\n",
      "    name = 'FG'; format = 'F19.8'; unit = 'e-/s'; disp = 'F19.8'; start = 348\n",
      "    name = 'e_FG'; format = 'F16.8'; unit = 'e-/s'; disp = 'F16.8'; start = 368\n",
      "    name = 'FBP'; format = 'F18.8'; unit = 'e-/s'; disp = 'F18.8'; start = 385\n",
      "    name = 'e_FBP'; format = 'F17.8'; unit = 'e-/s'; disp = 'F17.8'; start = 404\n",
      "    name = 'FRP'; format = 'F18.8'; unit = 'e-/s'; disp = 'F18.8'; start = 422\n",
      "    name = 'e_FRP'; format = 'F17.8'; unit = 'e-/s'; disp = 'F17.8'; start = 441\n",
      "    name = 'Gmag'; format = 'F10.7'; unit = 'mag'; disp = 'F10.7'; start = 459\n",
      "    name = 'BPmag'; format = 'F10.7'; unit = 'mag'; disp = 'F10.7'; start = 470\n",
      "    name = 'RPmag'; format = 'F10.7'; unit = 'mag'; disp = 'F10.7'; start = 481\n",
      "    name = 'BP-RP'; format = 'E11.4'; unit = 'mag'; disp = 'E11.4'; start = 492\n",
      "    name = 'BP-G'; format = 'E11.4'; unit = 'mag'; disp = 'E11.4'; start = 504\n",
      "    name = 'G-RP'; format = 'E11.4'; unit = 'mag'; disp = 'E11.4'; start = 516\n",
      "    name = 'RV'; format = 'E9.3'; unit = 'km/s'; disp = 'E9.3'; start = 528\n",
      "    name = 'e_RV'; format = 'F12.8'; unit = 'km/s'; disp = 'F12.8'; start = 538\n",
      "    name = 'n_RV'; format = 'F4.1'; disp = 'F4.1'; start = 551\n",
      "    name = 'o_RV'; format = 'F6.1'; disp = 'F6.1'; start = 556\n",
      "    name = 'o_RVd'; format = 'F5.1'; disp = 'F5.1'; start = 563\n",
      "    name = 'GRVSmag'; format = 'F11.7'; unit = 'mag'; disp = 'F11.7'; start = 569\n",
      "    name = 'e_GRVSmag'; format = 'F11.8'; unit = 'mag'; disp = 'F11.8'; start = 581\n",
      "    name = 'o_GRVSmag'; format = 'F6.1'; disp = 'F6.1'; start = 593\n",
      "    name = 'Vbroad'; format = 'F12.7'; unit = 'km/s'; disp = 'F12.7'; start = 600\n",
      "    name = 'e_Vbroad'; format = 'F13.8'; unit = 'km/s'; disp = 'F13.8'; start = 613\n",
      "    name = 'o_Vbroad'; format = 'F5.1'; disp = 'F5.1'; start = 627\n",
      "    name = 'VarFlag'; format = 'A13'; start = 633\n",
      "    name = 'NSS'; format = 'I1'; disp = 'I1'; start = 647\n",
      "    name = 'RVS'; format = 'I1'; disp = 'I1'; start = 649\n",
      ")\n"
     ]
    }
   ],
   "source": [
    "dr3stars = fits.open('gaiadr3_cluster_stars.fits')\n",
    "dr3stars.info()\n",
    "print(dr3stars[1].columns)\n",
    "stars = pd.DataFrame(dr3stars[1].data)\n",
    "stars['Name'] = stars['Name'].str.strip()\n",
    "stars = stars[stars['Prob']>0.8]\n",
    "clcounts = stars.groupby(['Name']).size().reset_index(name='count') \n",
    "\n"
   ]
  },
  {
   "cell_type": "code",
   "execution_count": null,
   "metadata": {},
   "outputs": [],
   "source": []
  }
 ],
 "metadata": {
  "kernelspec": {
   "display_name": "base",
   "language": "python",
   "name": "python3"
  },
  "language_info": {
   "codemirror_mode": {
    "name": "ipython",
    "version": 3
   },
   "file_extension": ".py",
   "mimetype": "text/x-python",
   "name": "python",
   "nbconvert_exporter": "python",
   "pygments_lexer": "ipython3",
   "version": "3.9.12"
  }
 },
 "nbformat": 4,
 "nbformat_minor": 2
}
