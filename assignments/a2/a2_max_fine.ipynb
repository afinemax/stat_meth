{
 "cells": [
  {
   "cell_type": "markdown",
   "metadata": {},
   "source": [
    "### Maxwell A. Fine 14880725\n",
    "### Assingment 2: Stastical Methods in Astrophysics"
   ]
  },
  {
   "cell_type": "code",
   "execution_count": 25,
   "metadata": {},
   "outputs": [],
   "source": [
    "# imports\n",
    "import numpy as np\n",
    "import matplotlib.pyplot as plt\n",
    "import pandas as pd\n",
    "from astropy.io import fits\n",
    "from scipy.stats import pearsonr, spearmanr\n",
    "from itertools import combinations # fancy nested for loop\n",
    " \n",
    "\n",
    "\n",
    "\n",
    "\n",
    "# Set a seed for reproducibility\n",
    "random_seed = 42"
   ]
  },
  {
   "cell_type": "markdown",
   "metadata": {},
   "source": [
    "### Initial Setup\n",
    "First, load in the stars data as shown in Assignment 1, and create a dataframe containing only stars with Prob > 0.8, which you will use for the remainder of this assignment."
   ]
  },
  {
   "cell_type": "code",
   "execution_count": 2,
   "metadata": {},
   "outputs": [
    {
     "name": "stdout",
     "output_type": "stream",
     "text": [
      "Filename: gaiadr3_cluster_stars.fits\n",
      "No.    Name      Ver    Type      Cards   Dimensions   Format\n",
      "  0  PRIMARY       1 PrimaryHDU      93   ()      \n",
      "  1  members.dat    1 TableHDU       331   1291929R x 56C   [A20, I4, I19, I1, F10.8, F12.8, F10.8, F12.8, F10.8, F12.8, E11.4, E11.4, F10.8, E11.4, F10.8, E11.4, F10.8, F11.8, F11.8, E11.4, E11.4, E11.4, E11.4, E11.4, E11.4, I2, F12.8, F10.7, F11.8, F10.8, F19.8, F16.8, F18.8, F17.8, F18.8, F17.8, F10.7, F10.7, F10.7, E11.4, E11.4, E11.4, E9.3, F12.8, F4.1, F6.1, F5.1, F11.7, F11.8, F6.1, F12.7, F13.8, F5.1, A13, I1, I1]   \n",
      "ColDefs(\n",
      "    name = 'Name'; format = 'A20'; start = 1\n",
      "    name = 'ID'; format = 'I4'; disp = 'I4'; start = 22\n",
      "    name = 'GaiaDR3'; format = 'I19'; disp = 'I19'; start = 27\n",
      "    name = 'inrt'; format = 'I1'; disp = 'I1'; start = 47\n",
      "    name = 'Prob'; format = 'F10.8'; disp = 'F10.8'; start = 49\n",
      "    name = 'RAdeg'; format = 'F12.8'; unit = 'deg'; disp = 'F12.8'; start = 60\n",
      "    name = 'e_RAdeg'; format = 'F10.8'; unit = 'arcsec'; disp = 'F10.8'; start = 73\n",
      "    name = 'DEdeg'; format = 'F12.8'; unit = 'deg'; disp = 'F12.8'; start = 84\n",
      "    name = 'e_DEdeg'; format = 'F10.8'; unit = 'arcsec'; disp = 'F10.8'; start = 97\n",
      "    name = 'GLON'; format = 'F12.8'; unit = 'deg'; disp = 'F12.8'; start = 108\n",
      "    name = 'GLAT'; format = 'E11.4'; unit = 'deg'; disp = 'E11.4'; start = 121\n",
      "    name = 'pmRA'; format = 'E11.4'; unit = 'mas/yr'; disp = 'E11.4'; start = 133\n",
      "    name = 'e_pmRA'; format = 'F10.8'; unit = 'mas/yr'; disp = 'F10.8'; start = 145\n",
      "    name = 'pmDE'; format = 'E11.4'; unit = 'mas/yr'; disp = 'E11.4'; start = 156\n",
      "    name = 'e_pmDE'; format = 'F10.8'; unit = 'mas/yr'; disp = 'F10.8'; start = 168\n",
      "    name = 'Plx'; format = 'E11.4'; unit = 'mas'; disp = 'E11.4'; start = 179\n",
      "    name = 'e_Plx'; format = 'F10.8'; unit = 'mas'; disp = 'F10.8'; start = 191\n",
      "    name = 'pscol'; format = 'F11.8'; unit = 'um-1'; disp = 'F11.8'; start = 202\n",
      "    name = 'e_pscol'; format = 'F11.8'; unit = 'um-1'; disp = 'F11.8'; start = 214\n",
      "    name = 'PlxpmRACor'; format = 'E11.4'; disp = 'E11.4'; start = 226\n",
      "    name = 'PlxpmDECor'; format = 'E11.4'; disp = 'E11.4'; start = 238\n",
      "    name = 'pmRApmDECor'; format = 'E11.4'; disp = 'E11.4'; start = 250\n",
      "    name = 'PlxpscolCor'; format = 'E11.4'; disp = 'E11.4'; start = 262\n",
      "    name = 'pmRApscolCor'; format = 'E11.4'; disp = 'E11.4'; start = 274\n",
      "    name = 'pmDEpscolCor'; format = 'E11.4'; disp = 'E11.4'; start = 286\n",
      "    name = 'Solved'; format = 'I2'; disp = 'I2'; start = 298\n",
      "    name = 'ELAT'; format = 'F12.8'; unit = 'deg'; disp = 'F12.8'; start = 301\n",
      "    name = 'nueff'; format = 'F10.7'; unit = 'um-1'; disp = 'F10.7'; start = 314\n",
      "    name = 'RUWE'; format = 'F11.8'; disp = 'F11.8'; start = 325\n",
      "    name = 'FidelityV1'; format = 'F10.8'; disp = 'F10.8'; start = 337\n",
      "    name = 'FG'; format = 'F19.8'; unit = 'e-/s'; disp = 'F19.8'; start = 348\n",
      "    name = 'e_FG'; format = 'F16.8'; unit = 'e-/s'; disp = 'F16.8'; start = 368\n",
      "    name = 'FBP'; format = 'F18.8'; unit = 'e-/s'; disp = 'F18.8'; start = 385\n",
      "    name = 'e_FBP'; format = 'F17.8'; unit = 'e-/s'; disp = 'F17.8'; start = 404\n",
      "    name = 'FRP'; format = 'F18.8'; unit = 'e-/s'; disp = 'F18.8'; start = 422\n",
      "    name = 'e_FRP'; format = 'F17.8'; unit = 'e-/s'; disp = 'F17.8'; start = 441\n",
      "    name = 'Gmag'; format = 'F10.7'; unit = 'mag'; disp = 'F10.7'; start = 459\n",
      "    name = 'BPmag'; format = 'F10.7'; unit = 'mag'; disp = 'F10.7'; start = 470\n",
      "    name = 'RPmag'; format = 'F10.7'; unit = 'mag'; disp = 'F10.7'; start = 481\n",
      "    name = 'BP-RP'; format = 'E11.4'; unit = 'mag'; disp = 'E11.4'; start = 492\n",
      "    name = 'BP-G'; format = 'E11.4'; unit = 'mag'; disp = 'E11.4'; start = 504\n",
      "    name = 'G-RP'; format = 'E11.4'; unit = 'mag'; disp = 'E11.4'; start = 516\n",
      "    name = 'RV'; format = 'E9.3'; unit = 'km/s'; disp = 'E9.3'; start = 528\n",
      "    name = 'e_RV'; format = 'F12.8'; unit = 'km/s'; disp = 'F12.8'; start = 538\n",
      "    name = 'n_RV'; format = 'F4.1'; disp = 'F4.1'; start = 551\n",
      "    name = 'o_RV'; format = 'F6.1'; disp = 'F6.1'; start = 556\n",
      "    name = 'o_RVd'; format = 'F5.1'; disp = 'F5.1'; start = 563\n",
      "    name = 'GRVSmag'; format = 'F11.7'; unit = 'mag'; disp = 'F11.7'; start = 569\n",
      "    name = 'e_GRVSmag'; format = 'F11.8'; unit = 'mag'; disp = 'F11.8'; start = 581\n",
      "    name = 'o_GRVSmag'; format = 'F6.1'; disp = 'F6.1'; start = 593\n",
      "    name = 'Vbroad'; format = 'F12.7'; unit = 'km/s'; disp = 'F12.7'; start = 600\n",
      "    name = 'e_Vbroad'; format = 'F13.8'; unit = 'km/s'; disp = 'F13.8'; start = 613\n",
      "    name = 'o_Vbroad'; format = 'F5.1'; disp = 'F5.1'; start = 627\n",
      "    name = 'VarFlag'; format = 'A13'; start = 633\n",
      "    name = 'NSS'; format = 'I1'; disp = 'I1'; start = 647\n",
      "    name = 'RVS'; format = 'I1'; disp = 'I1'; start = 649\n",
      ")\n"
     ]
    }
   ],
   "source": [
    "dr3stars = fits.open('gaiadr3_cluster_stars.fits')\n",
    "dr3stars.info()\n",
    "print(dr3stars[1].columns)\n",
    "stars = pd.DataFrame(dr3stars[1].data)\n",
    "stars['Name'] = stars['Name'].str.strip()\n",
    "stars = stars[stars['Prob']>0.8]\n",
    "clcounts = stars.groupby(['Name']).size().reset_index(name='count') "
   ]
  },
  {
   "cell_type": "markdown",
   "metadata": {},
   "source": [
    "### Task 1:\n",
    "Use your stars dataframe to calculate the following 6 sample quantities per cluster: \n",
    "- the number of\n",
    "stars in the cluster �∗; \n",
    "- the mean parallax, �$, of the stars in the cluster;\n",
    "- the standard deviation �& of\n",
    "the parallax of the stars in the cluster;\n",
    "- the ‘size’ of the cluster �pos calculated using the standard\n",
    "deviation in RA and Dec position of the stars1\n",
    ";\n",
    "- the mean proper motion of the cluster stars �̅;\n",
    "- the standard deviation of the proper motion of the cluster stars �- (which can be calculated by adding in quadrature the RA and dec proper motion standard deviations, i.e. the same as for �pos). \n",
    "\n",
    "To help you do this in Pandas, you can adapt the code you used for Assignment 1:\n",
    "clusters_hiprob = stars_hiprob.groupby(['Name']).size().reset_index(name='n_star')\n",
    "clusters_sd_hiprob = stars_hiprob.groupby(['Name']).std(numeric_only=True).reset_index()\n",
    "where the .std method calculates the sample standard deviations for all numerical quantities in the\n",
    "stars data frame grouped according to cluster name, and a similar method exists for the sample\n",
    "mean. Those can then be used to add the required columns to the dataframe with �∗.\n",
    "\n",
    "\n",
    "Now, select only the clusters which satisfy �∗ > 200, �pos < 1∘\n",
    "and for these clusters plot the 5\n",
    "astrometric quantities only (i.e. excluding �∗) in a scatter-matrix plot, to compare each pair of\n",
    "quantities and show their histograms. Comment on whether there are any clear correlations revealed\n",
    "by the scatter plots.\n",
    "\n",
    "\n",
    "### Idea:\n",
    "* We can use the pandas 'groupby' function to grab all the stars from a cluster and perform our operation\n",
    "* Make a new pd to hold our resulting data\n",
    "* Modify last weeks plotting code (write a function this time!) for our corner plot\n",
    "* Name of 6 parameters \n",
    "    - 'count' : # Number of stars in the cluster\n",
    "    - 'Plx' : # Parallax of the star\n",
    "    - 'RAdeg' : #  RA in deg\n",
    "    - 'pmra' : # proper motion of the star\n",
    "\n",
    "### Assumptions\n",
    "- N/A for this problem "
   ]
  },
  {
   "cell_type": "code",
   "execution_count": 35,
   "metadata": {},
   "outputs": [
    {
     "name": "stdout",
     "output_type": "stream",
     "text": [
      "             num_stars  mean_parallax  std_parallax  mean_proper_motion  \\\n",
      "Name                                                                      \n",
      "BH_131             227       0.125637      0.046214            6.536827   \n",
      "BH_140             338       0.190195      0.043486           14.897046   \n",
      "BH_66              355       0.123089      0.044962            5.470541   \n",
      "Berkeley_36        217       0.217359      0.065872            1.967901   \n",
      "Berkeley_39        211       0.226982      0.038289            2.371439   \n",
      "...                ...            ...           ...                 ...   \n",
      "UBC_461            231       0.298768      0.031775            4.096675   \n",
      "UBC_517            256       0.405671      0.022682            5.685520   \n",
      "UBC_600            390       0.171171      0.039550            1.191558   \n",
      "UFMG_2             212       0.377292      0.026794            5.382440   \n",
      "UFMG_38            246       0.297418      0.053870            3.182825   \n",
      "\n",
      "             cluster_size  std_proper_motion  \n",
      "Name                                          \n",
      "BH_131           0.221680           0.154404  \n",
      "BH_140           0.127424           0.129645  \n",
      "BH_66            0.180838           0.229493  \n",
      "Berkeley_36      0.063243           0.099389  \n",
      "Berkeley_39      0.045639           0.068647  \n",
      "...                   ...                ...  \n",
      "UBC_461          0.419239           0.109858  \n",
      "UBC_517          0.716871           0.127498  \n",
      "UBC_600          0.721515           0.134289  \n",
      "UFMG_2           0.073233           0.102454  \n",
      "UFMG_38          0.137607           0.138266  \n",
      "\n",
      "[198 rows x 6 columns]\n"
     ]
    }
   ],
   "source": [
    "# Cell to calculate cluster stastics \n",
    "# Group by 'Name' and calculate the required quantities\n",
    "cluster_stats = stars.groupby('Name').agg(\n",
    "    num_stars=('Name', 'count'),  # Number of stars \n",
    "    mean_parallax=('Plx', 'mean'),  # Mean parallax\n",
    "    std_parallax=('Plx', 'std'),  # STD parallax\n",
    "    mean_proper_motion=('pmRA', 'mean'),  # Mean proper motion\n",
    ")\n",
    "\n",
    "# Mean Proper motion\n",
    "# Quadrature sum of RA and dec to calculate proper motion\n",
    "mean_pmRA = stars.groupby('Name')['pmRA'].agg('mean')\n",
    "mean_pmDEC = stars.groupby('Name')['pmDE'].agg('mean') # Ugh why is the data using 'DE' not 'DEC'??\n",
    "mean_proper_motion = (mean_pmRA**2 + mean_pmDEC**2)**0.5\n",
    "cluster_stats['mean_proper_motion'] = mean_proper_motion\n",
    "\n",
    "# Size\n",
    "# Quadrature sum of RA and dec to calculate 'Size'\n",
    "std_radeg = stars.groupby('Name')['RAdeg'].agg('std')\n",
    "std_decdeg = stars.groupby('Name')['DEdeg'].agg('std') # Ugh why is the data using 'DE' not 'DEC'??\n",
    "size = (std_radeg**2 + std_decdeg**2)**0.5\n",
    "cluster_stats['cluster_size'] = size\n",
    "\n",
    "# STD proper motion\n",
    "# Quadrature sum of RA and dec proper motion standard deviations\n",
    "std_pm_ra = stars.groupby('Name')['pmRA'].agg('std')\n",
    "std_pm_dec = stars.groupby('Name')['pmDE'].agg('std')\n",
    "std_proper_motion = (std_pm_ra**2 + std_pm_dec**2)**0.5\n",
    "\n",
    "# Add the calculated standard deviation of proper motion to the cluster_stats DataFrame\n",
    "cluster_stats['std_proper_motion'] = std_proper_motion\n",
    "\n",
    "# Filter only keeping num_stars > 200 & cluster_size < 1 degree\n",
    "filtered_cluster_stats = cluster_stats[(cluster_stats['num_stars'] > 200) & (cluster_stats['cluster_size'] < 1)]\n",
    "print(filtered_cluster_stats)\n",
    "\n",
    "\n"
   ]
  },
  {
   "cell_type": "code",
   "execution_count": 36,
   "metadata": {},
   "outputs": [
    {
     "data": {
      "image/png": "[encoded data removed]",
      "text/plain": [
       "<Figure size 864x864 with 25 Axes>"
      ]
     },
     "metadata": {
      "needs_background": "light"
     },
     "output_type": "display_data"
    }
   ],
   "source": [
    "# Plotting cell\n",
    "\n",
    "# Define labels and colors\n",
    "labels = ['mean_parallax', 'std_parallax', 'mean_proper_motion', 'cluster_size', 'std_proper_motion']\n",
    "ndims = len(labels)\n",
    "\n",
    "\n",
    "# Nested for loop for plotting\n",
    "fig, axes = plt.subplots(ndims, ndims, figsize=(12, 12))\n",
    "fig.subplots_adjust(wspace=0.5, hspace=0.4)\n",
    "plotting_df = filtered_cluster_stats\n",
    "\n",
    "for i in range(ndims):  # y dimension of the grid\n",
    "    for j in range(ndims):  # x dimension of the grid\n",
    "        axes[i, j].tick_params(axis='both', which='major', labelsize=12, width=2, length=6)\n",
    "\n",
    "        if i == j:\n",
    "            axes[i, j].hist(plotting_df[labels[i]].values, bins=20, color='green', alpha=0.7)\n",
    "        elif i > j:\n",
    "            axes[i, j].scatter(plotting_df[labels[j]].values, plotting_df[labels[i]].values, color='green', alpha=0.7)\n",
    "        else:\n",
    "            axes[i, j].axis('off')\n",
    "\n",
    "        if j == 0:\n",
    "            if i == j:\n",
    "                axes[i, j].set_ylabel('counts', fontsize=12)\n",
    "            else:\n",
    "                axes[i, j].set_ylabel(labels[i], fontsize=12)\n",
    "\n",
    "        if i == ndims - 1:\n",
    "            axes[i, j].set_xlabel(labels[j], fontsize=12)\n",
    "\n",
    "plt.suptitle('filtered_cluster_stats', size=20, y=0.9)\n",
    "plt.show()"
   ]
  },
  {
   "cell_type": "markdown",
   "metadata": {},
   "source": [
    "### 1 Comments:\n",
    "\n",
    "Judging by the scatter matrix plot (aka the corner plot), there are some very clear correlations of different parameters. They do not appear as independent Guassians. However the indiivudal parameters do appear as  Gaussian distrubtions. \n",
    "\n",
    "### Add more\n",
    "\n"
   ]
  },
  {
   "cell_type": "markdown",
   "metadata": {},
   "source": [
    "### Task 2 Correlation tests:\n",
    "\n",
    "### A. \n",
    "Now search for correlations by calculating the Pearson and Spearman correlation coefficients\n",
    "and p-values for each of the combinations shown in the scatter-matrix plots. Comment on\n",
    "whether the tests are appropriate given the observed distributions of the measured\n",
    "quantities.\n",
    "### B. \n",
    "You can improve the situation by performing the tests on log-transformed data (i.e. on the\n",
    "logarithm of the quantities instead of the original values). Why should this make the tests\n",
    "more reliable? Finally, comment on your results and their implications.\n"
   ]
  },
  {
   "cell_type": "code",
   "execution_count": 32,
   "metadata": {},
   "outputs": [
    {
     "name": "stdout",
     "output_type": "stream",
     "text": [
      "                                Comparison  Pearson Coefficient  \\\n",
      "0            mean_parallax vs std_parallax             0.047611   \n",
      "1      mean_parallax vs mean_proper_motion            -0.011250   \n",
      "2            mean_parallax vs cluster_size             0.476555   \n",
      "3       mean_parallax vs std_proper_motion             0.228468   \n",
      "4       std_parallax vs mean_proper_motion             0.081363   \n",
      "5             std_parallax vs cluster_size             0.341305   \n",
      "6        std_parallax vs std_proper_motion             0.713024   \n",
      "7       mean_proper_motion vs cluster_size            -0.059311   \n",
      "8  mean_proper_motion vs std_proper_motion             0.005741   \n",
      "9        cluster_size vs std_proper_motion             0.403202   \n",
      "\n",
      "   Pearson P-Value  Spearman Coefficient  Spearman P-Value  \n",
      "0     5.053547e-01             -0.376186      4.712017e-08  \n",
      "1     8.750005e-01              0.010439      8.839494e-01  \n",
      "2     1.275929e-12              0.373636      5.897056e-08  \n",
      "3     1.206247e-03              0.025229      7.242273e-01  \n",
      "4     2.544863e-01              0.074383      2.976548e-01  \n",
      "5     8.621712e-07              0.208774      3.160198e-03  \n",
      "6     4.760937e-32              0.604036      4.484188e-21  \n",
      "7     4.065266e-01             -0.126396      7.599395e-02  \n",
      "8     9.360252e-01              0.017198      8.099562e-01  \n",
      "9     3.872148e-09              0.554065      2.508930e-17  \n"
     ]
    },
    {
     "name": "stderr",
     "output_type": "stream",
     "text": [
      "/tmp/ipykernel_21212/1023451068.py:17: FutureWarning: The behavior of DataFrame concatenation with empty or all-NA entries is deprecated. In a future version, this will no longer exclude empty or all-NA columns when determining the result dtypes. To retain the old behavior, exclude the relevant entries before the concat operation.\n",
      "  correlation_results_df = pd.concat([\n"
     ]
    }
   ],
   "source": [
    "# Create an empty DataFrame to store the results\n",
    "correlation_results_df = pd.DataFrame(columns=['Comparison', 'Pearson Coefficient',\n",
    "                                               'Pearson P-Value', 'Spearman Coefficient', 'Spearman P-Value'])\n",
    "\n",
    "\n",
    "# Calculate correlation coefficients and p-values\n",
    "for label1, label2 in combinations(labels, 2): # Fancy nested for loop\n",
    "\n",
    "    # Calculate Pearson correlation coefficient and p-value\n",
    "    pearson_corr, pearson_p_value = pearsonr(filtered_cluster_stats[label1], filtered_cluster_stats[label2])\n",
    "\n",
    "    # Calculate Spearman correlation coefficient and p-value\n",
    "    spearman_corr, spearman_p_value = spearmanr(filtered_cluster_stats[label1], filtered_cluster_stats[label2])\n",
    "\n",
    "    # Place results in pd, this is similar to a dict\n",
    "    comparison_key = f'{label1} vs {label2}'\n",
    "    correlation_results_df = pd.concat([\n",
    "        correlation_results_df,\n",
    "        pd.DataFrame({\n",
    "            'Comparison': [comparison_key],\n",
    "            'Pearson Coefficient': [pearson_corr],\n",
    "            'Pearson P-Value': [pearson_p_value],\n",
    "            'Spearman Coefficient': [spearman_corr],\n",
    "            'Spearman P-Value': [spearman_p_value]\n",
    "        })\n",
    "    ], ignore_index=True)\n",
    "\n",
    "# Print the DataFrame\n",
    "print(correlation_results_df)\n",
    "\n"
   ]
  },
  {
   "cell_type": "code",
   "execution_count": 30,
   "metadata": {},
   "outputs": [
    {
     "ename": "SyntaxError",
     "evalue": "invalid syntax (2745902418.py, line 14)",
     "output_type": "error",
     "traceback": [
      "\u001b[0;36m  Input \u001b[0;32mIn [30]\u001b[0;36m\u001b[0m\n\u001b[0;31m    'Pearson P-Value': pearson_p_valorrelation ue,\u001b[0m\n\u001b[0m                                               ^\u001b[0m\n\u001b[0;31mSyntaxError\u001b[0m\u001b[0;31m:\u001b[0m invalid syntax\n"
     ]
    }
   ],
   "source": [
    "correlation_results = {} # Initalize dict\n",
    "\n",
    "for label1, label2 in combinations(labels, 2):\n",
    "    # Calculate Pearson correlation coefficient and p-value\n",
    "    pearson_corr, pearson_p_value = pearsonr(filtered_cluster_stats[label1], filtered_cluster_stats[label2])\n",
    "    # Calculate Spearman correlation coefficient and p-value\n",
    "    spearman_corr, spearman_p_value = spearmanr(filtered_cluster_stats[label1], filtered_cluster_stats[label2])\n",
    "\n",
    "    # Store the Results in a Dictionary\n",
    "    key = f'{label1} vs {label2}'\n",
    "    correlation_results[key] = {\n",
    "        'Pearson Coefficient': pearson_corr,\n",
    "        'Pearson P-Value': pearson_p_value,\n",
    "        'Spearman Coefficient': spearman_corr,\n",
    "        'Spearman P-Value': spearman_p_value\n",
    "    }\n",
    "\n",
    "    # Print Results\n",
    "    print(key)\n",
    "    print(correlation_results[key])\n",
    "    print('\\n')"
   ]
  },
  {
   "cell_type": "code",
   "execution_count": 33,
   "metadata": {},
   "outputs": [
    {
     "data": {
      "text/plain": [
       "Name\n",
       "BH_131         0.221680\n",
       "BH_140         0.127424\n",
       "BH_66          0.180838\n",
       "Berkeley_36    0.063243\n",
       "Berkeley_39    0.045639\n",
       "                 ...   \n",
       "UBC_461        0.419239\n",
       "UBC_517        0.716871\n",
       "UBC_600        0.721515\n",
       "UFMG_2         0.073233\n",
       "UFMG_38        0.137607\n",
       "Name: cluster_size, Length: 198, dtype: float64"
      ]
     },
     "execution_count": 33,
     "metadata": {},
     "output_type": "execute_result"
    }
   ],
   "source": [
    "filtered_cluster_stats[label1]"
   ]
  },
  {
   "cell_type": "code",
   "execution_count": 34,
   "metadata": {},
   "outputs": [
    {
     "data": {
      "text/plain": [
       "'cluster_size'"
      ]
     },
     "execution_count": 34,
     "metadata": {},
     "output_type": "execute_result"
    }
   ],
   "source": []
  },
  {
   "cell_type": "code",
   "execution_count": null,
   "metadata": {},
   "outputs": [],
   "source": []
  }
 ],
 "metadata": {
  "kernelspec": {
   "display_name": "base",
   "language": "python",
   "name": "python3"
  },
  "language_info": {
   "codemirror_mode": {
    "name": "ipython",
    "version": 3
   },
   "file_extension": ".py",
   "mimetype": "text/x-python",
   "name": "python",
   "nbconvert_exporter": "python",
   "pygments_lexer": "ipython3",
   "version": "3.9.12"
  }
 },
 "nbformat": 4,
 "nbformat_minor": 2
}
